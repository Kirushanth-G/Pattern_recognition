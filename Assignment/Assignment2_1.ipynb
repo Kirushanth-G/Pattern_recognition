{
 "cells": [
  {
   "cell_type": "code",
   "execution_count": 2,
   "metadata": {},
   "outputs": [
    {
     "name": "stdout",
     "output_type": "stream",
     "text": [
      "       species  class_encoded\n",
      "0       Adelie              0\n",
      "1       Adelie              0\n",
      "2       Adelie              0\n",
      "4       Adelie              0\n",
      "5       Adelie              0\n",
      "..         ...            ...\n",
      "215  Chinstrap              1\n",
      "216  Chinstrap              1\n",
      "217  Chinstrap              1\n",
      "218  Chinstrap              1\n",
      "219  Chinstrap              1\n",
      "\n",
      "[214 rows x 2 columns]\n"
     ]
    }
   ],
   "source": [
    "import seaborn as sns\n",
    "import pandas as pd\n",
    "from sklearn.model_selection import train_test_split\n",
    "from sklearn.preprocessing import LabelEncoder\n",
    "from sklearn.linear_model import LogisticRegression\n",
    "from sklearn.metrics import accuracy_score\n",
    "\n",
    "# Load the penguins dataset\n",
    "df = sns.load_dataset(\"penguins\")\n",
    "df.dropna(inplace=True)\n",
    "\n",
    "# Filter rows for 'Adelie' and 'Chinstrap' classes\n",
    "selected_classes = ['Adelie', 'Chinstrap']\n",
    "df_filtered = df[df['species'].isin(selected_classes)].copy() # Make a copy to avoid the warning\n",
    "\n",
    "# Initialize the LabelEncoder\n",
    "le = LabelEncoder()\n",
    "\n",
    "# Encode the species column\n",
    "y_encoded = le.fit_transform(df_filtered['species'])\n",
    "df_filtered['class_encoded'] = y_encoded\n",
    "\n",
    "# Display the filtered and encoded DataFrame\n",
    "print(df_filtered[['species', 'class_encoded']])\n",
    "\n",
    "# Split the data into features (X) and target variable (y)\n",
    "y = df_filtered['class_encoded'] # Target variable\n",
    "X = df_filtered.drop(['species', 'island', 'sex','class_encoded'], axis=1)"
   ]
  },
  {
   "cell_type": "code",
   "execution_count": 3,
   "metadata": {},
   "outputs": [
    {
     "name": "stdout",
     "output_type": "stream",
     "text": [
      "Accuracy: 1.0\n",
      "[[ 1.5997544  -1.43222015 -0.15123497 -0.00401141]] [-0.07601213]\n"
     ]
    }
   ],
   "source": [
    "#Split the data into training and testing sets\n",
    "X_train, X_test, y_train, y_test = train_test_split(X, y, test_size=0.2, random_state=42)\n",
    "\n",
    "# Train the logistic regression model. Here we are using saga solver to learn weights.\n",
    "logreg = LogisticRegression(solver='liblinear')\n",
    "logreg.fit(X_train, y_train)\n",
    "\n",
    "# Predict on the testing data\n",
    "y_pred = logreg.predict(X_test)\n",
    "\n",
    "# Evaluate the model\n",
    "accuracy = accuracy_score(y_test, y_pred)\n",
    "print(\"Accuracy:\", accuracy)\n",
    "print(logreg.coef_, logreg.intercept_)"
   ]
  },
  {
   "cell_type": "code",
   "execution_count": 4,
   "metadata": {},
   "outputs": [
    {
     "name": "stdout",
     "output_type": "stream",
     "text": [
      "Accuracy without scaling (liblinear): 1.0\n",
      "Accuracy without scaling (saga): 0.5813953488372093\n",
      "Accuracy with scaling (liblinear): 0.9767441860465116\n",
      "Accuracy with scaling (saga): 0.9767441860465116\n"
     ]
    },
    {
     "name": "stderr",
     "output_type": "stream",
     "text": [
      "c:\\Users\\Kiru\\Desktop\\Semester 5\\EN3150 - Pattern Recognition\\Pattern_Recognition\\In_class_codes\\.venv\\Lib\\site-packages\\sklearn\\linear_model\\_sag.py:349: ConvergenceWarning: The max_iter was reached which means the coef_ did not converge\n",
      "  warnings.warn(\n"
     ]
    }
   ],
   "source": [
    "from sklearn.preprocessing import StandardScaler\n",
    "from sklearn.linear_model import LogisticRegression\n",
    "from sklearn.metrics import accuracy_score\n",
    "from sklearn.model_selection import train_test_split\n",
    "\n",
    "# 1. Split data into training and testing sets (same split for both solvers)\n",
    "X_train, X_test, y_train, y_test = train_test_split(X, y, test_size=0.2, random_state=42)\n",
    "\n",
    "# 2. Compare performance WITHOUT feature scaling\n",
    "# For 'liblinear'\n",
    "logreg_liblinear = LogisticRegression(solver='liblinear')\n",
    "logreg_liblinear.fit(X_train, y_train)\n",
    "y_pred_liblinear = logreg_liblinear.predict(X_test)\n",
    "accuracy_liblinear = accuracy_score(y_test, y_pred_liblinear)\n",
    "print(f\"Accuracy without scaling (liblinear): {accuracy_liblinear}\")\n",
    "\n",
    "# For 'saga'\n",
    "logreg_saga = LogisticRegression(solver='saga')\n",
    "logreg_saga.fit(X_train, y_train)\n",
    "y_pred_saga = logreg_saga.predict(X_test)\n",
    "accuracy_saga = accuracy_score(y_test, y_pred_saga)\n",
    "print(f\"Accuracy without scaling (saga): {accuracy_saga}\")\n",
    "\n",
    "# 3. Compare performance WITH feature scaling\n",
    "scaler = StandardScaler()\n",
    "\n",
    "# Fit and transform the training data, then transform the testing data\n",
    "X_train_scaled = scaler.fit_transform(X_train)\n",
    "X_test_scaled = scaler.transform(X_test)\n",
    "\n",
    "# For 'liblinear' with scaled data\n",
    "logreg_liblinear_scaled = LogisticRegression(solver='liblinear')\n",
    "logreg_liblinear_scaled.fit(X_train_scaled, y_train)\n",
    "y_pred_liblinear_scaled = logreg_liblinear_scaled.predict(X_test_scaled)\n",
    "accuracy_liblinear_scaled = accuracy_score(y_test, y_pred_liblinear_scaled)\n",
    "print(f\"Accuracy with scaling (liblinear): {accuracy_liblinear_scaled}\")\n",
    "\n",
    "# For 'saga' with scaled data\n",
    "logreg_saga_scaled = LogisticRegression(solver='saga')\n",
    "logreg_saga_scaled.fit(X_train_scaled, y_train)\n",
    "y_pred_saga_scaled = logreg_saga_scaled.predict(X_test_scaled)\n",
    "accuracy_saga_scaled = accuracy_score(y_test, y_pred_saga_scaled)\n",
    "print(f\"Accuracy with scaling (saga): {accuracy_saga_scaled}\")"
   ]
  }
 ],
 "metadata": {
  "kernelspec": {
   "display_name": ".venv",
   "language": "python",
   "name": "python3"
  },
  "language_info": {
   "codemirror_mode": {
    "name": "ipython",
    "version": 3
   },
   "file_extension": ".py",
   "mimetype": "text/x-python",
   "name": "python",
   "nbconvert_exporter": "python",
   "pygments_lexer": "ipython3",
   "version": "3.12.5"
  }
 },
 "nbformat": 4,
 "nbformat_minor": 2
}
